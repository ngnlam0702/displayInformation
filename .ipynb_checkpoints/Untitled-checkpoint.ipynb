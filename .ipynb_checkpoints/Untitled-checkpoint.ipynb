{
 "cells": [
  {
   "cell_type": "code",
   "execution_count": null,
   "id": "3132e83f",
   "metadata": {},
   "outputs": [],
   "source": [
    "Họ tên"
   ]
  },
  {
   "cell_type": "code",
   "execution_count": 2,
   "id": "f24d4e2f",
   "metadata": {},
   "outputs": [
    {
     "name": "stdout",
     "output_type": "stream",
     "text": [
      "Họ tên: Nguyễn Ngọc Lâm\n"
     ]
    }
   ],
   "source": [
    "print(\"Họ tên: Nguyễn Ngọc Lâm\")"
   ]
  },
  {
   "cell_type": "code",
   "execution_count": null,
   "id": "1676d9e5",
   "metadata": {},
   "outputs": [],
   "source": [
    "Ngày sinh"
   ]
  },
  {
   "cell_type": "code",
   "execution_count": 3,
   "id": "463b29fb",
   "metadata": {},
   "outputs": [
    {
     "name": "stdout",
     "output_type": "stream",
     "text": [
      "Ngày sinh: 07/02/2001\n"
     ]
    }
   ],
   "source": [
    "print(\"Ngày sinh: 07/02/2001\")"
   ]
  },
  {
   "cell_type": "code",
   "execution_count": null,
   "id": "8cc285fe",
   "metadata": {},
   "outputs": [],
   "source": [
    "Địa chỉ"
   ]
  },
  {
   "cell_type": "code",
   "execution_count": 4,
   "id": "2ed388d1",
   "metadata": {},
   "outputs": [
    {
     "name": "stdout",
     "output_type": "stream",
     "text": [
      "Địa chỉ: T3 Times City, 458 Minh Khai, Hà Nội\n"
     ]
    }
   ],
   "source": [
    "print(\"Địa chỉ: T3 Times City, 458 Minh Khai, Hà Nội\")"
   ]
  },
  {
   "cell_type": "code",
   "execution_count": null,
   "id": "cfa339be",
   "metadata": {},
   "outputs": [],
   "source": [
    "Mục đích"
   ]
  },
  {
   "cell_type": "code",
   "execution_count": 5,
   "id": "bb51a4c9",
   "metadata": {},
   "outputs": [
    {
     "name": "stdout",
     "output_type": "stream",
     "text": [
      "Mục đích: Em muốn mở mang tri thức và tiếp cận những kiến thức của khoa học dữ liệu\n"
     ]
    }
   ],
   "source": [
    "print('Mục đích: Em muốn mở mang tri thức và tiếp cận những kiến thức của khoa học dữ liệu')"
   ]
  },
  {
   "cell_type": "code",
   "execution_count": null,
   "id": "dcd50849",
   "metadata": {},
   "outputs": [],
   "source": []
  }
 ],
 "metadata": {
  "kernelspec": {
   "display_name": "Python 3 (ipykernel)",
   "language": "python",
   "name": "python3"
  },
  "language_info": {
   "codemirror_mode": {
    "name": "ipython",
    "version": 3
   },
   "file_extension": ".py",
   "mimetype": "text/x-python",
   "name": "python",
   "nbconvert_exporter": "python",
   "pygments_lexer": "ipython3",
   "version": "3.9.7"
  }
 },
 "nbformat": 4,
 "nbformat_minor": 5
}
